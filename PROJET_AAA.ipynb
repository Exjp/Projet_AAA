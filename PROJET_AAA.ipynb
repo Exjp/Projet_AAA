{
 "cells": [
  {
   "cell_type": "markdown",
   "metadata": {},
   "source": [
    "# Adversarial Machine Learning in Network Intrusion Detection Systems"
   ]
  },
  {
   "cell_type": "markdown",
   "metadata": {},
   "source": [
    "L'article utilise comme dataset NSL-KDD et UNSW-NB15, qui représente des flux de données bruts. Ces flux sont un mélanges différent type de trafic mais aussi un mélange  de bonnes et malicieuses données. Le but étant d'altérer ces paquets de données pour pouvoir passer les modèles de machine learning de sécurité tout en gardant en gardant les flux de donnée fonctionnels. "
   ]
  },
  {
   "cell_type": "code",
   "execution_count": 1,
   "metadata": {},
   "outputs": [],
   "source": [
    "import os\n",
    "import pandas as pd\n",
    "\n",
    "\n",
    "df = pd.read_csv(\"KDDTest+.csv\")\n",
    "#df.info()"
   ]
  },
  {
   "cell_type": "code",
   "execution_count": 2,
   "metadata": {
    "scrolled": true
   },
   "outputs": [],
   "source": [
    "df2 = pd.read_csv(\"UNSW_NB15_training-set.csv\")\n",
    "#df2.info()"
   ]
  },
  {
   "cell_type": "markdown",
   "metadata": {},
   "source": [
    "# Genetic Algorithm"
   ]
  },
  {
   "cell_type": "markdown",
   "metadata": {},
   "source": [
    "Le *Genetic algorithm* (GA) est un algorithme qui se base sur la génétique et la sélection naturelle. Le GA utilise une forme de données appelées chromosome : ces données (vecteurs) sont formées et les valeurs de différentes features sont destinées à évoluer comme pour un gêne d'être vivant.\n",
    "Certaines *features* sont inchangeable du à leur importance dans le bon fonctionnement des paquets.\n",
    "\n",
    "- En premier lieu, on va créer une population de 100 chromosomes, dont leurs données seront générer aléatoirement, séparées en 2 parties, les données que l'ont peu modifier et les autres. (pour les opérations qui suivent, on va utiliser la partie que l'on peut modifier)\n",
    "- on va ensuite utiliser l'opération de *cross over*. On choisi aléatoirement 2 chromosomes que l'on va séparer l'un de 25% de ses features et donc, de l'autre des 75% autres, que l'on va échanger pour créer 2 nouveau chromosomes. Ces nouveaux chromosomes seront ensuite insérés dans la population.\n",
    "- Enfin, on va utiliser l'opération de *mutation* sur la partie que l'on peut modifier, qui consiste à choisir de manière aléatoire un chromosome et de même pour une de ses features. Toute cette opération est exécutée \n",
    "- On regroupe les 2 parties des chromosomes.\n",
    "- Finalement, on va utiliser une *fitness function* pour évaluer chaque chromosome, s'ils sont bénins (seuil à 99,99%) ou non. On retiendra le meilleur chromosome toutes les 5 générations.\n",
    "- On répète tout ce processus 100 fois\n",
    "On obtient alors un nouveau dataset ne contenant que des vecteurs \"malsains\" qui seront testés dans la partie expérience."
   ]
  },
  {
   "cell_type": "code",
   "execution_count": 3,
   "metadata": {},
   "outputs": [
    {
     "name": "stdout",
     "output_type": "stream",
     "text": [
      "Requirement already satisfied: geneticalgorithm in c:\\users\\vasaw\\appdata\\local\\programs\\python\\python38\\lib\\site-packages (1.0.1)\n",
      "Requirement already satisfied: func-timeout in c:\\users\\vasaw\\appdata\\local\\programs\\python\\python38\\lib\\site-packages (from geneticalgorithm) (4.3.5)\n",
      "Requirement already satisfied: numpy in c:\\users\\vasaw\\appdata\\local\\programs\\python\\python38\\lib\\site-packages (from geneticalgorithm) (1.19.2)\n"
     ]
    },
    {
     "name": "stderr",
     "output_type": "stream",
     "text": [
      "WARNING: You are using pip version 20.2.4; however, version 20.3.1 is available.\n",
      "You should consider upgrading via the 'c:\\users\\vasaw\\appdata\\local\\programs\\python\\python38\\python.exe -m pip install --upgrade pip' command.\n"
     ]
    }
   ],
   "source": [
    "!pip install geneticalgorithm"
   ]
  },
  {
   "cell_type": "code",
   "execution_count": 4,
   "metadata": {
    "scrolled": false
   },
   "outputs": [],
   "source": [
    "import sklearn\n",
    "import numpy as np\n",
    "import random\n",
    "from random import randint\n",
    "from geneticalgorithm import geneticalgorithm as ga\n",
    "from sklearn import svm\n",
    "from sklearn import tree\n",
    "from sklearn import svm\n",
    "from sklearn import ensemble\n",
    "from sklearn.naive_bayes import GaussianNB\n",
    "from sklearn.neighbors import KNeighborsClassifier\n",
    "from sklearn.ensemble import VotingClassifier\n",
    "from sklearn.preprocessing import LabelEncoder\n",
    "\n",
    "#Creation of initial population\n",
    "listProtocols = [\"tcp\",\"udp\",\"icmp\"]\n",
    "listData = [\"private\",\"ftp_data\",\"eco_i\",\"telnet\",\"http\",\"smtp\",\"imap4\",\"systat\",\"pop3\",\"domain_u\",\"whois\",\"netbios_dgm\"]\n",
    "listSF = [\"SF\",\"S0\",\"REJ\",\"RSTR\"]\n",
    "#cell 3 = 62825648 - 0\n",
    "# 24 à 30 et 33 à 40 entre 0 et 1\n",
    "# 4 à 23 , 31- 32,  entre 0 et 20\n",
    "#derniere = 0 - 21\n",
    "\n",
    "# creation of artifical dataset\n",
    "def initialPopulation(df, nbChrom):\n",
    "    initPopulation = []\n",
    "    for i in range (nbChrom):\n",
    "        chrom = []\n",
    "        for j in range (len(df.columns)):\n",
    "            if(j == 0) :\n",
    "                chrom.insert(j,random.randint(0, 2))\n",
    "            if(j == 1) :\n",
    "                chrom.insert(j,random.randint(0, 11))\n",
    "            if(j == 2) :\n",
    "                chrom.insert(j,randint(0, 62825648))\n",
    "            if((j >= 24 and j <= 30) or (j >= 33 and j <= 40)) :\n",
    "                chrom.insert(j,random.uniform(0, 1))\n",
    "            if((j >= 4 and j <= 23) or j == 32 or j ==33) :\n",
    "                chrom.insert(j,random.randint(0, 62825648))\n",
    "            if(j == 41) :\n",
    "                chrom.insert(j,random.randint(0,21))\n",
    "        initPopulation.append(chrom)\n",
    "    return initPopulation\n",
    "\n",
    "\n",
    "\n",
    "\n",
    "dimDF = len(df.columns)\n",
    "dimDF2 = len(df2.columns)\n",
    "\n",
    "#We have to reduce to a minimum data size otherwise our computers can not run the fit after...\n",
    "dfCopy = df.copy()\n",
    "dfCopy = dfCopy.head(1000)\n",
    "\n",
    "# preparation of the data : transforming string input to int \n",
    "LE = LabelEncoder()\n",
    "dfCopy['protocol_type'] = LE.fit_transform(dfCopy['protocol_type'])\n",
    "dfCopy['service'] = LE.fit_transform(dfCopy['service'])\n",
    "dfCopy['flag'] = LE.fit_transform(dfCopy['flag'])\n",
    "dfCopy['class'] = LE.fit_transform(dfCopy['class'])\n",
    "dfCopy.head()\n",
    "\n",
    "y = dfCopy['class']\n",
    "dfCopy.drop(['class'], axis='columns', inplace=True)\n",
    "X = dfCopy\n",
    "\n"
   ]
  },
  {
   "cell_type": "code",
   "execution_count": 5,
   "metadata": {},
   "outputs": [],
   "source": [
    "\n",
    "population = initialPopulation(dfCopy,100)\n",
    "#fitnessScore(population,)\n",
    "#population"
   ]
  },
  {
   "cell_type": "code",
   "execution_count": 6,
   "metadata": {
    "scrolled": true
   },
   "outputs": [
    {
     "data": {
      "text/plain": [
       "' # TO ADAPT\\ndef selection(pop_after_fit,n_parents):\\n    population_nextgen = []\\n    for i in range(n_parents):\\n        population_nextgen.append(pop_after_fit[i])\\n    return population_nextgen\\n\\ndef crossover(pop_after_sel):\\n    population_nextgen=pop_after_sel\\n    for i in range(len(pop_after_sel)):\\n        child=pop_after_sel[i]\\n        child[3:7]=pop_after_sel[(i+1)%len(pop_after_sel)][3:7]\\n        population_nextgen.append(child)\\n    return population_nextgen\\n\\ndef mutation(pop_after_cross,mutation_rate):\\n    population_nextgen = []\\n    for i in range(0,len(pop_after_cross)):\\n        chromosome = pop_after_cross[i]\\n        for j in range(len(chromosome)):\\n            if random.random() < mutation_rate:\\n                chromosome[j]= not chromosome[j]\\n        population_nextgen.append(chromosome)\\n    #print(population_nextgen)\\n    return population_nextgen\\n\\ndef generations(size,n_feat,n_parents,mutation_rate,n_gen,X_train,\\n                                   X_test, y_train, y_test):\\n    best_chromo= []\\n    best_score= []\\n    population_nextgen=initilization_of_population(size,n_feat)\\n    for i in range(n_gen):\\n        scores, pop_after_fit = fitness_score(population_nextgen)\\n        print(scores[:2])\\n        pop_after_sel = selection(pop_after_fit,n_parents)\\n        pop_after_cross = crossover(pop_after_sel)\\n        population_nextgen = mutation(pop_after_cross,mutation_rate)\\n        best_chromo.append(pop_after_fit[0])\\n        best_score.append(scores[0])\\n    return best_chromo,best_score\\n'"
      ]
     },
     "execution_count": 6,
     "metadata": {},
     "output_type": "execute_result"
    }
   ],
   "source": [
    "#Parameters given in the section 4.3 of the article\n",
    "svm = svm.SVC(C = 220, gamma = 0.01, probability = True, tol = 0.001)\n",
    "#  decision trees\n",
    "dectr = tree.DecisionTreeClassifier(criterion = 'entropy', min_samples_split = 4, \\\n",
    "                                    min_samples_leaf = 2, max_depth = 20, min_impurity_decrease = 0.1)\n",
    "#naive bayes\n",
    "nb = GaussianNB()\n",
    "#k nearest neighbors\n",
    "knn = KNeighborsClassifier(n_neighbors = 3, algorithm ='auto')\n",
    "\n",
    "estimators = [ ('svm', svm), ('dt', dectr), ('nb', nb), ('knn', knn)]\n",
    "model = ensemble.VotingClassifier(estimators, voting='hard')\n",
    "\n",
    "fitModel = model.fit(X,y)\n",
    "\n",
    "\n",
    "# https://datascienceplus.com/genetic-algorithm-in-machine-learning-using-python/\n",
    "\n",
    "def fitnessScore(population,yTest):\n",
    "    scores = []\n",
    "    for chromosome in population :\n",
    "        prediction = fitModel.predict(chromosome)\n",
    "        # We want the bad pred to be valued better\n",
    "        # 0 correspond to \"anomaly\" and 1 to \"normal\"\n",
    "        if(prediction == 0):\n",
    "            score = 1\n",
    "        else :\n",
    "            score = 0\n",
    "        scores.append(score)\n",
    "    scores, population = np.array(scores), np.array(population) \n",
    "    inds = np.argsort(scores)\n",
    "    return list(scores[inds][::-1]), list(population[inds,:][::-1])\n",
    "\n",
    "''' # TO ADAPT\n",
    "def selection(pop_after_fit,n_parents):\n",
    "    population_nextgen = []\n",
    "    for i in range(n_parents):\n",
    "        population_nextgen.append(pop_after_fit[i])\n",
    "    return population_nextgen\n",
    "\n",
    "def crossover(pop_after_sel):\n",
    "    population_nextgen=pop_after_sel\n",
    "    for i in range(len(pop_after_sel)):\n",
    "        child=pop_after_sel[i]\n",
    "        child[3:7]=pop_after_sel[(i+1)%len(pop_after_sel)][3:7]\n",
    "        population_nextgen.append(child)\n",
    "    return population_nextgen\n",
    "\n",
    "def mutation(pop_after_cross,mutation_rate):\n",
    "    population_nextgen = []\n",
    "    for i in range(0,len(pop_after_cross)):\n",
    "        chromosome = pop_after_cross[i]\n",
    "        for j in range(len(chromosome)):\n",
    "            if random.random() < mutation_rate:\n",
    "                chromosome[j]= not chromosome[j]\n",
    "        population_nextgen.append(chromosome)\n",
    "    #print(population_nextgen)\n",
    "    return population_nextgen\n",
    "\n",
    "def generations(size,n_feat,n_parents,mutation_rate,n_gen,X_train,\n",
    "                                   X_test, y_train, y_test):\n",
    "    best_chromo= []\n",
    "    best_score= []\n",
    "    population_nextgen=initilization_of_population(size,n_feat)\n",
    "    for i in range(n_gen):\n",
    "        scores, pop_after_fit = fitness_score(population_nextgen)\n",
    "        print(scores[:2])\n",
    "        pop_after_sel = selection(pop_after_fit,n_parents)\n",
    "        pop_after_cross = crossover(pop_after_sel)\n",
    "        population_nextgen = mutation(pop_after_cross,mutation_rate)\n",
    "        best_chromo.append(pop_after_fit[0])\n",
    "        best_score.append(scores[0])\n",
    "    return best_chromo,best_score\n",
    "'''"
   ]
  },
  {
   "cell_type": "markdown",
   "metadata": {},
   "source": [
    "Le but est de maximiser le nombre de vecteurs malsain classés en sain."
   ]
  },
  {
   "cell_type": "markdown",
   "metadata": {},
   "source": [
    "# Particle Swarn Optimization"
   ]
  },
  {
   "cell_type": "markdown",
   "metadata": {},
   "source": [
    "L'idée du *Particle Swarm Optimization* est que pour chaque particule d'une nuée, on va essayer de trouver la meilleure position retournée par la *fitness function*. \n",
    "\n",
    "- D'abord, on doit créer la nuée de 200 particules. Les particules sont formées à partir d'une rangée du dataset et d'une partie généré aléatoirement, toujours avec les mêmes *features* que le dataset. Comme que pour le GA, on devrait prendre seulement la partie mutable des particules à modifier. Ensuites, pour chaque particules est attribué une vélocité de 0.7.\n",
    "- Pour chaque itération, on va évaluer chaque particule à partir de la *fitness function*. On met à jour la meilleur valeur de la fonction fitness possible de chaque particules (de 0.5 au départ) et de la meilleur valeur de la fonction fitness global (de 0.4 au départ)\n",
    "- On calcule en suite la distance entre la position de chaque particule et on récupère la meilleure valeur grâce à la fonction de fitness. On met à jour la vélocité et la position de chaque particule avec les valeurs précédentes.\n",
    "- On répète tout ce processus 100 fois au maximum ou s'il y a une amélioration de moins de 0.001%.\n",
    "La nué de particules devient alors un nouveau dataset de vecteurs *malsains*"
   ]
  },
  {
   "cell_type": "code",
   "execution_count": 7,
   "metadata": {},
   "outputs": [
    {
     "name": "stderr",
     "output_type": "stream",
     "text": [
      "WARNING: You are using pip version 20.2.4; however, version 20.3.1 is available.\n",
      "You should consider upgrading via the 'c:\\users\\vasaw\\appdata\\local\\programs\\python\\python38\\python.exe -m pip install --upgrade pip' command.\n"
     ]
    },
    {
     "name": "stdout",
     "output_type": "stream",
     "text": [
      "Requirement already satisfied: pyswarms in c:\\users\\vasaw\\appdata\\local\\programs\\python\\python38\\lib\\site-packages (1.2.0)\n",
      "Requirement already satisfied: attrs in c:\\users\\vasaw\\appdata\\local\\programs\\python\\python38\\lib\\site-packages (from pyswarms) (20.2.0)\n",
      "Requirement already satisfied: tqdm in c:\\users\\vasaw\\appdata\\local\\programs\\python\\python38\\lib\\site-packages (from pyswarms) (4.54.0)\n",
      "Requirement already satisfied: future in c:\\users\\vasaw\\appdata\\local\\programs\\python\\python38\\lib\\site-packages (from pyswarms) (0.18.2)\n",
      "Requirement already satisfied: pyyaml in c:\\users\\vasaw\\appdata\\local\\programs\\python\\python38\\lib\\site-packages (from pyswarms) (5.3.1)\n",
      "Requirement already satisfied: matplotlib>=1.3.1 in c:\\users\\vasaw\\appdata\\local\\programs\\python\\python38\\lib\\site-packages (from pyswarms) (3.3.2)\n",
      "Requirement already satisfied: numpy in c:\\users\\vasaw\\appdata\\local\\programs\\python\\python38\\lib\\site-packages (from pyswarms) (1.19.2)\n",
      "Requirement already satisfied: scipy in c:\\users\\vasaw\\appdata\\local\\programs\\python\\python38\\lib\\site-packages (from pyswarms) (1.5.2)\n",
      "Requirement already satisfied: python-dateutil>=2.1 in c:\\users\\vasaw\\appdata\\local\\programs\\python\\python38\\lib\\site-packages (from matplotlib>=1.3.1->pyswarms) (2.8.1)\n",
      "Requirement already satisfied: pillow>=6.2.0 in c:\\users\\vasaw\\appdata\\local\\programs\\python\\python38\\lib\\site-packages (from matplotlib>=1.3.1->pyswarms) (7.2.0)\n",
      "Requirement already satisfied: cycler>=0.10 in c:\\users\\vasaw\\appdata\\local\\programs\\python\\python38\\lib\\site-packages (from matplotlib>=1.3.1->pyswarms) (0.10.0)\n",
      "Requirement already satisfied: kiwisolver>=1.0.1 in c:\\users\\vasaw\\appdata\\local\\programs\\python\\python38\\lib\\site-packages (from matplotlib>=1.3.1->pyswarms) (1.2.0)\n",
      "Requirement already satisfied: pyparsing!=2.0.4,!=2.1.2,!=2.1.6,>=2.0.3 in c:\\users\\vasaw\\appdata\\local\\programs\\python\\python38\\lib\\site-packages (from matplotlib>=1.3.1->pyswarms) (2.4.7)\n",
      "Requirement already satisfied: certifi>=2020.06.20 in c:\\users\\vasaw\\appdata\\local\\programs\\python\\python38\\lib\\site-packages (from matplotlib>=1.3.1->pyswarms) (2020.6.20)\n",
      "Requirement already satisfied: six>=1.5 in c:\\users\\vasaw\\appdata\\local\\programs\\python\\python38\\lib\\site-packages (from python-dateutil>=2.1->matplotlib>=1.3.1->pyswarms) (1.15.0)\n"
     ]
    }
   ],
   "source": [
    "!pip install pyswarms"
   ]
  },
  {
   "cell_type": "code",
   "execution_count": 8,
   "metadata": {},
   "outputs": [],
   "source": [
    "from pyswarms.single import GlobalBestPSO\n",
    "from pyswarms.utils.search.grid_search  import SearchBase\n",
    "\n",
    "from sklearn.ensemble import VotingClassifier\n",
    "from sklearn import svm\n",
    "from sklearn.tree import DecisionTreeClassifier\n",
    "from sklearn.naive_bayes import GaussianNB\n",
    "from sklearn.neighbors import KNeighborsClassifier\n",
    "\n",
    "def prepare_UNSW_NB15(data):\n",
    "    LE = LabelEncoder()\n",
    "    copy = data[data['label']==1]\n",
    "    copy = copy.drop(['label'], axis=1)\n",
    "    copy['proto'] = LE.fit_transform(copy['proto'])\n",
    "    copy['service'] = LE.fit_transform(copy['service'])\n",
    "    copy['state'] = LE.fit_transform(copy['state'])\n",
    "    copy['attack_cat'] = LE.fit_transform(copy['attack_cat'])\n",
    "    return copy\n",
    "\n",
    "def voting_classifier(X_train, Y_train) :\n",
    "  sv = svm.SVC(gamma = 0.01, C = 220.0, tol = 0.01, probability = True)\n",
    "  dt = DecisionTreeClassifier(\n",
    "      criterion = \"entropy\", min_samples_split = 4, min_samples_leaf = 2, max_depth = 20, min_impurity_decrease = 0.1)\n",
    "  nb = GaussianNB()\n",
    "  kn = KNeighborsClassifier( n_neighbors = 3, algorithm = \"auto\")\n",
    "\n",
    "  vC = VotingClassifier (estimators=\n",
    "                         [('svm', sv), ('dt', dt), ('nb', nb), ('knn',kn)], voting='soft')\n",
    "  vC = vC.fit(X_train,Y_train)\n",
    "  return vC\n",
    "\n",
    "def Pso (dim, data) :\n",
    "  option = {'c1': 0.5, 'c2': 0.4, 'w' : 0.7}\n",
    "  opt = GlobalBestPSO (n_particles=200, dimensions=dim, options=option)\n",
    "  return opt.optimize(prepare_UNSW_NB15, 100, None, True, data)"
   ]
  },
  {
   "cell_type": "code",
   "execution_count": 9,
   "metadata": {},
   "outputs": [],
   "source": [
    "#from sklearn.model_selection import train_test_split\n",
    "\n",
    "#df2prepare = Pso (len(copy.columns), df2)\n",
    "\n",
    "#X_train, X_test, y_train, y_test = train_test_split(df2prepare, test_size=0.2, random_state=300)\n",
    "\n",
    "#voting_classifier(X_train, y_train)"
   ]
  },
  {
   "cell_type": "markdown",
   "metadata": {},
   "source": [
    "# Generative Adversarial Network"
   ]
  },
  {
   "cell_type": "markdown",
   "metadata": {},
   "source": [
    "Le *Generative Adversial Network* est une technique de deep learning qui va confronter deux réseaux de neuronnes. Ces deux réseaux de neuronnes correspondent l'un à la génération des vecteur *malicieux* et donc à ceux qu'elles permettent de tromper, l'autre est le discriminateur, qui lui va essayer de deviner si l'entrée est saine ou non.\n",
    "Comme les méthodes précédentes, on va modifier d'abord la partie modifiable, c'est à dire non fixée des vecteurs. \n",
    "- Pour le générateur, on va sélectionner aléatoirement un vecteur \"malsain\". On va ajouter du bruit dans certaines des features choisies au hasard, toujours dans la partie modifiable du vecteur malicieux. Puis ce vecteur va rentrer dans le réseau neuronal du générateur avec comme sortie, un vecteur de la taille de la partie mutable du vecteur d'entrée. On recombine le vecteur de sortie avec la partie non changeable du vecteur de l'entrée, et on le donne en entrée du discriminateur. Les labels sortant de ce dernier permettrons d'améliorer le réseau de neurone du générateur.\n",
    "- Pour le discriminateur, on va faire la même chose avec mais un vecteur bénin.\n",
    "- Les deux réseaux de neurones utiliserons des sets de données d'entraînements.\n",
    "\n"
   ]
  },
  {
   "cell_type": "markdown",
   "metadata": {},
   "source": [
    "# EXPERIENCE"
   ]
  },
  {
   "cell_type": "markdown",
   "metadata": {},
   "source": [
    "Les expériences sont enfin réalisée sur les 11 modèles de classification en utilisant les sets produits précédemment. \n",
    "L'article ne mentionne pas les hyperparamètres à appliquer pour les 11 classifieurs. \n",
    "Les 11 classifieurs sont Support Vector Machine (SVM), Decision Trees (DT), Naive Bayes (NB), k Nearest Neighbors (KNN), Random Forest (RF), Multi-layer Perceptron (MLP), Gradient Boosting (GB), Logistic Regression (LR), Linear Discriminant Analysis (LDA), Quadratic Discriminant Analysis (QDA), and Bagging (BAG)\n",
    "Nous laisserons principalement les paramètres par défaut pour réaliser les expériences.\n",
    "Les résultats attendus pour ces expériences sont un taux élevé de mauvaise classification (dans le cas où nous arriverions à générer les adversairal datasets). \n"
   ]
  },
  {
   "cell_type": "code",
   "execution_count": 10,
   "metadata": {},
   "outputs": [],
   "source": [
    "from sklearn.model_selection import train_test_split\n",
    "from sklearn.ensemble import BaggingClassifier\n",
    "from sklearn.svm import SVC\n",
    "from sklearn.model_selection import RepeatedStratifiedKFold\n",
    "from sklearn.model_selection import cross_val_score\n",
    "from sklearn.preprocessing import OrdinalEncoder\n",
    "from sklearn.tree import DecisionTreeClassifier\n",
    "from sklearn.naive_bayes import GaussianNB\n",
    "from sklearn.neighbors import KNeighborsClassifier\n",
    "from sklearn.preprocessing import LabelEncoder\n",
    "from numpy import mean,std\n",
    "from sklearn.discriminant_analysis import QuadraticDiscriminantAnalysis\n",
    "from sklearn.discriminant_analysis import LinearDiscriminantAnalysis\n",
    "from sklearn.linear_model import LogisticRegression\n",
    "from sklearn.neural_network import MLPClassifier\n",
    "from sklearn.ensemble import RandomForestClassifier\n",
    "from sklearn.ensemble import GradientBoostingClassifier"
   ]
  },
  {
   "cell_type": "code",
   "execution_count": 11,
   "metadata": {},
   "outputs": [],
   "source": [
    "def prepare_UNSW_NB15(df):\n",
    "    dfcopy = df.copy()\n",
    "    dfcopy = df.sample(n = 10000)\n",
    "    LE = LabelEncoder()\n",
    "    #label = dfcopy.loc[:,('label')]\n",
    "    #dfcopy = dfcopy.drop(['label'], axis=1)\n",
    "    dfcopy['proto'] = LE.fit_transform(dfcopy['proto'])\n",
    "    dfcopy['service'] = LE.fit_transform(dfcopy['service'])\n",
    "    dfcopy['state'] = LE.fit_transform(dfcopy['state'])\n",
    "    dfcopy['attack_cat'] = LE.fit_transform(dfcopy['attack_cat'])\n",
    "    dfcopy['label'] = LE.fit_transform(dfcopy['label'])\n",
    "    \n",
    "    y = dfcopy['label']\n",
    "    dfcopy.drop(['label'], axis='columns', inplace=True)\n",
    "    return dfcopy, y"
   ]
  },
  {
   "cell_type": "code",
   "execution_count": 12,
   "metadata": {},
   "outputs": [],
   "source": [
    "def prepareKDD(df):\n",
    "    trainCopy = df.copy()\n",
    "    # limit cause we can't run it on 22000 entries.\n",
    "    trainCopy = df.sample(n = 10000)\n",
    "\n",
    "    # preparation of the data : transforming string input to int \n",
    "    LE = LabelEncoder()\n",
    "    trainCopy['protocol_type'] = LE.fit_transform(trainCopy['protocol_type'])\n",
    "    trainCopy['service'] = LE.fit_transform(trainCopy['service'])\n",
    "    trainCopy['flag'] = LE.fit_transform(trainCopy['flag'])\n",
    "    trainCopy['class'] = LE.fit_transform(trainCopy['class'])\n",
    "    \n",
    "    y = trainCopy['class']\n",
    "    trainCopy.drop(['class'], axis='columns', inplace=True)\n",
    "    \n",
    "    return trainCopy, y"
   ]
  },
  {
   "cell_type": "code",
   "execution_count": 13,
   "metadata": {},
   "outputs": [],
   "source": [
    "def classifier(clf, X_train, Y_train, X_test, Y_test):\n",
    "    model = clf();\n",
    "    model.fit(X_train, Y_train);\n",
    "    return model.score(X_test, Y_test)"
   ]
  },
  {
   "cell_type": "code",
   "execution_count": 14,
   "metadata": {},
   "outputs": [],
   "source": [
    "def comparaison (clf, X_train, Y_train, X_test, Y_test) :\n",
    "    score = []\n",
    "    for i in clf :\n",
    "        score.append(classifier(i, X_train, Y_train, X_test, Y_test))\n",
    "    return score"
   ]
  },
  {
   "cell_type": "code",
   "execution_count": 15,
   "metadata": {},
   "outputs": [],
   "source": [
    "def SVM(X_train, y_train, X_test, y_test):\n",
    "    svm = SVC()\n",
    "    svm.fit(X_train,y_train)\n",
    "    return(svm.score(X_test, y_test))"
   ]
  },
  {
   "cell_type": "code",
   "execution_count": 16,
   "metadata": {},
   "outputs": [],
   "source": [
    "def baggingexp(X_train, y_train, X_test, y_test):\n",
    "    \n",
    "    #df2copy = prepareDataset(dataset)\n",
    "    #X_train, X_test, y_train, y_test = train_test_split(df2copy, label, test_size=0.5, random_state=500)\n",
    "    \n",
    "\n",
    "    model = BaggingClassifier(base_estimator=None, n_estimators=10, random_state=0).fit(X_train, y_train)\n",
    "#     cv = RepeatedStratifiedKFold(n_splits=10, n_repeats=3, random_state=1)\n",
    "#     n_scores = cross_val_score(model, X_test, y_test, scoring='accuracy', cv=cv, n_jobs=-1, error_score='raise')\n",
    "    return model.score(X_test, y_test)\n",
    "#     print('Accuracy: %.3f (%.3f)' % (mean(n_scores), std(n_scores)))\n",
    "    "
   ]
  },
  {
   "cell_type": "code",
   "execution_count": 17,
   "metadata": {},
   "outputs": [],
   "source": [
    "def SVMc(X_train, y_train, X_test, y_test):\n",
    "    svm = SVC()\n",
    "    svm.fit(X_train,y_train)\n",
    "    return(svm.score(X_test, y_test))"
   ]
  },
  {
   "cell_type": "code",
   "execution_count": 18,
   "metadata": {},
   "outputs": [],
   "source": [
    "def QDA(X_train, y_train, X_test, y_test):\n",
    "    clf = QuadraticDiscriminantAnalysis()\n",
    "    clf.fit(X_train, y_train)\n",
    "    return clf.score(X_test, y_test)\n",
    "    "
   ]
  },
  {
   "cell_type": "code",
   "execution_count": 19,
   "metadata": {},
   "outputs": [],
   "source": [
    "def LDA(X_train, y_train, X_test, y_test):\n",
    "    clf = LinearDiscriminantAnalysis()\n",
    "    clf.fit(X_train, y_train)\n",
    "    return clf.score(X_test, y_test)"
   ]
  },
  {
   "cell_type": "code",
   "execution_count": 20,
   "metadata": {},
   "outputs": [],
   "source": [
    "def logisticRegression(X_train, y_train, X_test, y_test):\n",
    "    clf = LogisticRegression(random_state=0)\n",
    "    clf.fit(X_train, y_train)\n",
    "    return clf.score(X_test, y_test)"
   ]
  },
  {
   "cell_type": "code",
   "execution_count": 21,
   "metadata": {},
   "outputs": [],
   "source": [
    "def gradBoost(X_train, y_train, X_test, y_test):\n",
    "    clf = GradientBoostingClassifier(random_state=0)\n",
    "    clf.fit(X_train, y_train)\n",
    "    return clf.score(X_test, y_test)"
   ]
  },
  {
   "cell_type": "code",
   "execution_count": 22,
   "metadata": {},
   "outputs": [],
   "source": [
    "def MLP(X_train, y_train, X_test, y_test):\n",
    "    clf = MLPClassifier(random_state=0, max_iter=10)\n",
    "    clf.fit(X_train, y_train)\n",
    "    return clf.score(X_test, y_test)"
   ]
  },
  {
   "cell_type": "code",
   "execution_count": 23,
   "metadata": {},
   "outputs": [],
   "source": [
    "def randomForest(X_train, y_train, X_test, y_test):\n",
    "    clf = RandomForestClassifier(max_depth=2, random_state=0)\n",
    "    clf.fit(X_train, y_train)\n",
    "    return clf.score(X_test, y_test)"
   ]
  },
  {
   "cell_type": "code",
   "execution_count": 41,
   "metadata": {},
   "outputs": [],
   "source": [
    "def plotClassifieurBarScore(score):\n",
    "    classifieur = []\n",
    "    for i in range (len(score)):\n",
    "#         classifieur.insert(i,i)\n",
    "        score[i] = (1 - score[i])*100\n",
    "    plotDF = pd.DataFrame({'Classifieur':clfName, 'Score':score})\n",
    "    plotDF.plot.bar(x=\"Classifieur\", y='Score', rot=0,figsize=(16,5))"
   ]
  },
  {
   "cell_type": "code",
   "execution_count": 42,
   "metadata": {},
   "outputs": [],
   "source": [
    "def all_classifier_score(X_train, X_test, y_train, y_test) :\n",
    "    clf = [DecisionTreeClassifier, GaussianNB, KNeighborsClassifier]\n",
    "    clfName = [\"DTC\", \"GaussianNB\", \"KNC\"]\n",
    "    score = comparaison(clf, X_train, y_train, X_test, y_test)\n",
    "    score.append(SVMc(X_train,y_train, X_test, y_test))\n",
    "    clfName.append(\"SVM\")\n",
    "    score.append(baggingexp(X_train,y_train, X_test, y_test))\n",
    "    clfName.append(\"Bagging\")\n",
    "    score.append(QDA(X_train,y_train, X_test, y_test))\n",
    "    clfName.append(\"QDA\")\n",
    "    score.append(logisticRegression(X_train,y_train, X_test, y_test))\n",
    "    clfName.append(\"logisticRegression\")\n",
    "    score.append(LDA(X_train,y_train, X_test, y_test))\n",
    "    clfName.append(\"LDA\")\n",
    "    score.append(gradBoost(X_train,y_train, X_test, y_test))\n",
    "    clfName.append(\"gradBoost\")\n",
    "    score.append(randomForest(X_train,y_train, X_test, y_test))\n",
    "    clfName.append(\"randomForest\")\n",
    "    score.append(MLP(X_train,y_train, X_test, y_test))\n",
    "    clfName.append(\"MLP\")\n",
    "    return score, clfName"
   ]
  },
  {
   "cell_type": "markdown",
   "metadata": {},
   "source": [
    "### Génération des données adversial KDD"
   ]
  },
  {
   "cell_type": "code",
   "execution_count": 43,
   "metadata": {},
   "outputs": [],
   "source": [
    "from random import randrange, random\n",
    "from sklearn.utils import shuffle\n",
    "\n",
    "def modify_sample(df, col, val) :\n",
    "    try :\n",
    "        mod = df.sample(n=500)\n",
    "    except :\n",
    "        mod = df.sample(frac=0.9)\n",
    "    if (val!=None):\n",
    "        mod[col] = val\n",
    "    else :\n",
    "        mod[col] = mod[col].apply(lambda x :x+randrange(500))\n",
    "    mod['class'] = 'anomaly'\n",
    "    return mod\n",
    "\n",
    "def related_sample(df, col1, col2) :\n",
    "    mod = df.sample(n=randrange(500))\n",
    "    mod[col1] = mod[col1].apply(lambda x : random())\n",
    "    mod[col2] = mod[col2].apply(lambda x: 1 - mod[col1])\n",
    "    mod['class'] = 'anomaly'\n",
    "    return mod\n",
    "    \n",
    "def binary_sample(df, col) :\n",
    "    on = modify_sample(df[df[col]==0], col, 1)\n",
    "    off = modify_sample(df[df[col]==1], col, 0)\n",
    "    return on, off\n",
    "\n",
    "def adversial_kdd(df) :\n",
    "    dfCopy = df.copy()\n",
    "    dfCopy = dfCopy[dfCopy['class']=='normal']\n",
    "    frames = [dfCopy]\n",
    "    #Possible modification given in the paper\n",
    "    src_bytes_null = modify_sample(dfCopy, 'src_bytes', 0)\n",
    "    frames.append(src_bytes_null)\n",
    "    src_bytes_increase = modify_sample(dfCopy, 'src_bytes', None)\n",
    "    frames.append(src_bytes_increase)\n",
    "    dst_bytes_null = modify_sample(dfCopy, 'dst_bytes', 0)\n",
    "    frames.append(dst_bytes_null)\n",
    "    dst_bytes_increase = modify_sample(dfCopy, 'dst_bytes', None)\n",
    "    frames.append(dst_bytes_increase)\n",
    "    svr_rate = related_sample(dfCopy, 'same_srv_rate', 'diff_srv_rate')\n",
    "    frames.append(svr_rate)\n",
    "    # Binary modification\n",
    "    logged_in_on, logged_in_off = binary_sample(dfCopy, 'logged_in')\n",
    "    frames.append(logged_in_on)\n",
    "    frames.append(logged_in_off)\n",
    "    root_shell_on, root_shell_off = binary_sample(dfCopy, 'root_shell')\n",
    "    frames.append(root_shell_on)\n",
    "    frames.append(root_shell_off)\n",
    "    #\n",
    "    adversial = pd.concat(frames, ignore_index=True, sort=False)\n",
    "    adversial = shuffle(adversial)\n",
    "    adversial.reset_index(inplace=True, drop=True)\n",
    "    return adversial"
   ]
  },
  {
   "cell_type": "code",
   "execution_count": 44,
   "metadata": {},
   "outputs": [],
   "source": [
    "dfad = adversial_kdd(df)"
   ]
  },
  {
   "cell_type": "markdown",
   "metadata": {},
   "source": [
    "### Appels de tous les classifieurs et récupération des résultats (dataset UNSW_NB15)"
   ]
  },
  {
   "cell_type": "code",
   "execution_count": 45,
   "metadata": {},
   "outputs": [
    {
     "name": "stderr",
     "output_type": "stream",
     "text": [
      "c:\\users\\vasaw\\appdata\\local\\programs\\python\\python38\\lib\\site-packages\\sklearn\\discriminant_analysis.py:715: UserWarning: Variables are collinear\n",
      "  warnings.warn(\"Variables are collinear\")\n",
      "c:\\users\\vasaw\\appdata\\local\\programs\\python\\python38\\lib\\site-packages\\sklearn\\linear_model\\_logistic.py:762: ConvergenceWarning: lbfgs failed to converge (status=1):\n",
      "STOP: TOTAL NO. of ITERATIONS REACHED LIMIT.\n",
      "\n",
      "Increase the number of iterations (max_iter) or scale the data as shown in:\n",
      "    https://scikit-learn.org/stable/modules/preprocessing.html\n",
      "Please also refer to the documentation for alternative solver options:\n",
      "    https://scikit-learn.org/stable/modules/linear_model.html#logistic-regression\n",
      "  n_iter_i = _check_optimize_result(\n",
      "c:\\users\\vasaw\\appdata\\local\\programs\\python\\python38\\lib\\site-packages\\sklearn\\neural_network\\_multilayer_perceptron.py:582: ConvergenceWarning: Stochastic Optimizer: Maximum iterations (10) reached and the optimization hasn't converged yet.\n",
      "  warnings.warn(\n"
     ]
    },
    {
     "data": {
      "image/png": "[encoded data removed]",
      "text/plain": [
       "<Figure size 1152x360 with 1 Axes>"
      ]
     },
     "metadata": {
      "needs_background": "light"
     },
     "output_type": "display_data"
    }
   ],
   "source": [
    "X, y = prepareKDD(dfad)\n",
    "X_train, X_test, y_train, y_test = train_test_split(X, y, test_size=0.5)\n",
    "\n",
    "score, clfName = all_classifier_score(X_train, X_test, y_train, y_test)\n",
    "#score\n",
    "plotClassifieurBarScore(score)"
   ]
  },
  {
   "cell_type": "markdown",
   "metadata": {},
   "source": [
    "### Génération des données adversial UNSW-NB15"
   ]
  },
  {
   "cell_type": "code",
   "execution_count": 46,
   "metadata": {},
   "outputs": [],
   "source": [
    "def modify_sample(df, col, val) :\n",
    "    try :\n",
    "        mod = df.sample(n=500)\n",
    "    except :\n",
    "        mod = df.sample(frac=0.9)\n",
    "    if (val!=None):\n",
    "        mod[col] = val\n",
    "    else :\n",
    "        mod[col] = mod[col].apply(lambda x :x+randrange(500))\n",
    "    mod['label'] = 1\n",
    "    return mod\n",
    "\n",
    "def twoValSample(df, col) :\n",
    "    sp1 = modify_sample(df[df[col] == 0], col, 255)\n",
    "    sp2 = modify_sample(df[df[col] == 255], col, 0)\n",
    "    return sp1,sp2\n",
    "\n",
    "def adversial_UNSWNB15(df):\n",
    "    dfCopy = df.copy()\n",
    "    dfCopy = dfCopy[dfCopy['label'] == 0]\n",
    "    frames = [dfCopy]\n",
    "    \n",
    "    #perturbations\n",
    "    stcpb_increase = modify_sample(dfCopy, 'stcpb', 400000)\n",
    "    frames.append(stcpb_increase)\n",
    "    dtcpb_increase = modify_sample(dfCopy, 'dtcpb', 400000)\n",
    "    frames.append(dtcpb_increase)\n",
    "    swin_reverse1, swin_reverse2 = twoValSample(dfCopy, 'swin')\n",
    "    frames.append(swin_reverse1)\n",
    "    frames.append(swin_reverse2)\n",
    "    dwin_reverse1,dwin_reverse2 = twoValSample(dfCopy, 'dwin')\n",
    "    frames.append(dwin_reverse1)\n",
    "    frames.append(dwin_reverse2)\n",
    "    ackdat_increase = modify_sample(dfCopy, 'ackdat', 0.1)\n",
    "    frames.append(ackdat_increase)\n",
    "    ct_srv_src_increase = modify_sample(dfCopy, 'ct_srv_src', 4)\n",
    "    frames.append(ct_srv_src_increase)\n",
    "    ct_srv_dst_increase = modify_sample(dfCopy, 'ct_srv_dst', 4)\n",
    "    frames.append(ct_srv_src_increase)\n",
    "    ct_dst_src_ltm_increase = modify_sample(dfCopy, 'ct_dst_src_ltm', 4)\n",
    "    frames.append(ct_srv_src_increase)\n",
    "    \n",
    "    #retrieving final adversarial dataset \n",
    "    adversial = pd.concat(frames, ignore_index=True, sort=False)\n",
    "    adversial = shuffle(adversial)\n",
    "    adversial.reset_index(inplace=True, drop=True)\n",
    "    return adversial"
   ]
  },
  {
   "cell_type": "code",
   "execution_count": 51,
   "metadata": {},
   "outputs": [],
   "source": [
    "dfad2 = adversial_UNSWNB15(df2)"
   ]
  },
  {
   "cell_type": "markdown",
   "metadata": {},
   "source": [
    "### Appels de tous les classifieurs et récupération des résultats (dataset UNSW_NB15)"
   ]
  },
  {
   "cell_type": "code",
   "execution_count": 52,
   "metadata": {},
   "outputs": [
    {
     "name": "stderr",
     "output_type": "stream",
     "text": [
      "c:\\users\\vasaw\\appdata\\local\\programs\\python\\python38\\lib\\site-packages\\sklearn\\discriminant_analysis.py:715: UserWarning: Variables are collinear\n",
      "  warnings.warn(\"Variables are collinear\")\n",
      "c:\\users\\vasaw\\appdata\\local\\programs\\python\\python38\\lib\\site-packages\\sklearn\\neural_network\\_multilayer_perceptron.py:582: ConvergenceWarning: Stochastic Optimizer: Maximum iterations (10) reached and the optimization hasn't converged yet.\n",
      "  warnings.warn(\n"
     ]
    },
    {
     "data": {
      "image/png": "[encoded data removed]",
      "text/plain": [
       "<Figure size 1152x360 with 1 Axes>"
      ]
     },
     "metadata": {
      "needs_background": "light"
     },
     "output_type": "display_data"
    }
   ],
   "source": [
    "X, y = prepare_UNSW_NB15(dfad2)\n",
    "X_train, X_test, y_train, y_test = train_test_split(X, y, test_size=0.5)\n",
    "\n",
    "score, clfName = all_classifier_score(X_train, X_test, y_train, y_test)\n",
    "plotClassifieurBarScore(score)"
   ]
  },
  {
   "cell_type": "code",
   "execution_count": null,
   "metadata": {},
   "outputs": [],
   "source": []
  }
 ],
 "metadata": {
  "kernelspec": {
   "display_name": "Python 3",
   "language": "python",
   "name": "python3"
  },
  "language_info": {
   "codemirror_mode": {
    "name": "ipython",
    "version": 3
   },
   "file_extension": ".py",
   "mimetype": "text/x-python",
   "name": "python",
   "nbconvert_exporter": "python",
   "pygments_lexer": "ipython3",
   "version": "3.8.5"
  }
 },
 "nbformat": 4,
 "nbformat_minor": 4
}
