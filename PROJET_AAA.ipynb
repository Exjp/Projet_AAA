{
 "cells": [
  {
   "cell_type": "markdown",
   "metadata": {},
   "source": [
    "# PROJET"
   ]
  },
  {
   "cell_type": "code",
   "execution_count": 6,
   "metadata": {},
   "outputs": [
    {
     "name": "stdout",
     "output_type": "stream",
     "text": [
      "<class 'pandas.core.frame.DataFrame'>\n",
      "RangeIndex: 125973 entries, 0 to 125972\n",
      "Data columns (total 42 columns):\n",
      " #   Column                         Non-Null Count   Dtype  \n",
      "---  ------                         --------------   -----  \n",
      " 0   'duration'                     125973 non-null  int64  \n",
      " 1   'protocol_type'                125973 non-null  object \n",
      " 2   'service'                      125973 non-null  object \n",
      " 3   'flag'                         125973 non-null  object \n",
      " 4   'src_bytes'                    125973 non-null  int64  \n",
      " 5   'dst_bytes'                    125973 non-null  int64  \n",
      " 6   'land'                         125973 non-null  int64  \n",
      " 7   'wrong_fragment'               125973 non-null  int64  \n",
      " 8   'urgent'                       125973 non-null  int64  \n",
      " 9   'hot'                          125973 non-null  int64  \n",
      " 10  'num_failed_logins'            125973 non-null  int64  \n",
      " 11  'logged_in'                    125973 non-null  int64  \n",
      " 12  'num_compromised'              125973 non-null  int64  \n",
      " 13  'root_shell'                   125973 non-null  int64  \n",
      " 14  'su_attempted'                 125973 non-null  int64  \n",
      " 15  'num_root'                     125973 non-null  int64  \n",
      " 16  'num_file_creations'           125973 non-null  int64  \n",
      " 17  'num_shells'                   125973 non-null  int64  \n",
      " 18  'num_access_files'             125973 non-null  int64  \n",
      " 19  'num_outbound_cmds'            125973 non-null  int64  \n",
      " 20  'is_host_login'                125973 non-null  int64  \n",
      " 21  'is_guest_login'               125973 non-null  int64  \n",
      " 22  'count'                        125973 non-null  int64  \n",
      " 23  'srv_count'                    125973 non-null  int64  \n",
      " 24  'serror_rate'                  125973 non-null  float64\n",
      " 25  'srv_serror_rate'              125973 non-null  float64\n",
      " 26  'rerror_rate'                  125973 non-null  float64\n",
      " 27  'srv_rerror_rate'              125973 non-null  float64\n",
      " 28  'same_srv_rate'                125973 non-null  float64\n",
      " 29  'diff_srv_rate'                125973 non-null  float64\n",
      " 30  'srv_diff_host_rate'           125973 non-null  float64\n",
      " 31  'dst_host_count'               125973 non-null  int64  \n",
      " 32  'dst_host_srv_count'           125973 non-null  int64  \n",
      " 33  'dst_host_same_srv_rate'       125973 non-null  float64\n",
      " 34  'dst_host_diff_srv_rate'       125973 non-null  float64\n",
      " 35  'dst_host_same_src_port_rate'  125973 non-null  float64\n",
      " 36  'dst_host_srv_diff_host_rate'  125973 non-null  float64\n",
      " 37  'dst_host_serror_rate'         125973 non-null  float64\n",
      " 38  'dst_host_srv_serror_rate'     125973 non-null  float64\n",
      " 39  'dst_host_rerror_rate'         125973 non-null  float64\n",
      " 40  'dst_host_srv_rerror_rate'     125973 non-null  float64\n",
      " 41  'class'                        125973 non-null  object \n",
      "dtypes: float64(15), int64(23), object(4)\n",
      "memory usage: 40.4+ MB\n"
     ]
    }
   ],
   "source": [
    "import os\n",
    "import pandas as pd\n",
    "\n",
    "HOUSING_PATH1 = os.path.join(\"Dataset\")\n",
    "\n",
    "df = pd.read_csv(os.path.join(HOUSING_PATH1,\"KDDTrain+.csv\"))\n",
    "df.info()"
   ]
  },
  {
   "cell_type": "code",
   "execution_count": 8,
   "metadata": {},
   "outputs": [
    {
     "name": "stdout",
     "output_type": "stream",
     "text": [
      "<class 'pandas.core.frame.DataFrame'>\n",
      "RangeIndex: 82332 entries, 0 to 82331\n",
      "Data columns (total 45 columns):\n",
      " #   Column             Non-Null Count  Dtype  \n",
      "---  ------             --------------  -----  \n",
      " 0   id                 82332 non-null  int64  \n",
      " 1   dur                82332 non-null  float64\n",
      " 2   proto              82332 non-null  object \n",
      " 3   service            82332 non-null  object \n",
      " 4   state              82332 non-null  object \n",
      " 5   spkts              82332 non-null  int64  \n",
      " 6   dpkts              82332 non-null  int64  \n",
      " 7   sbytes             82332 non-null  int64  \n",
      " 8   dbytes             82332 non-null  int64  \n",
      " 9   rate               82332 non-null  float64\n",
      " 10  sttl               82332 non-null  int64  \n",
      " 11  dttl               82332 non-null  int64  \n",
      " 12  sload              82332 non-null  float64\n",
      " 13  dload              82332 non-null  float64\n",
      " 14  sloss              82332 non-null  int64  \n",
      " 15  dloss              82332 non-null  int64  \n",
      " 16  sinpkt             82332 non-null  float64\n",
      " 17  dinpkt             82332 non-null  float64\n",
      " 18  sjit               82332 non-null  float64\n",
      " 19  djit               82332 non-null  float64\n",
      " 20  swin               82332 non-null  int64  \n",
      " 21  stcpb              82332 non-null  int64  \n",
      " 22  dtcpb              82332 non-null  int64  \n",
      " 23  dwin               82332 non-null  int64  \n",
      " 24  tcprtt             82332 non-null  float64\n",
      " 25  synack             82332 non-null  float64\n",
      " 26  ackdat             82332 non-null  float64\n",
      " 27  smean              82332 non-null  int64  \n",
      " 28  dmean              82332 non-null  int64  \n",
      " 29  trans_depth        82332 non-null  int64  \n",
      " 30  response_body_len  82332 non-null  int64  \n",
      " 31  ct_srv_src         82332 non-null  int64  \n",
      " 32  ct_state_ttl       82332 non-null  int64  \n",
      " 33  ct_dst_ltm         82332 non-null  int64  \n",
      " 34  ct_src_dport_ltm   82332 non-null  int64  \n",
      " 35  ct_dst_sport_ltm   82332 non-null  int64  \n",
      " 36  ct_dst_src_ltm     82332 non-null  int64  \n",
      " 37  is_ftp_login       82332 non-null  int64  \n",
      " 38  ct_ftp_cmd         82332 non-null  int64  \n",
      " 39  ct_flw_http_mthd   82332 non-null  int64  \n",
      " 40  ct_src_ltm         82332 non-null  int64  \n",
      " 41  ct_srv_dst         82332 non-null  int64  \n",
      " 42  is_sm_ips_ports    82332 non-null  int64  \n",
      " 43  attack_cat         82332 non-null  object \n",
      " 44  label              82332 non-null  int64  \n",
      "dtypes: float64(11), int64(30), object(4)\n",
      "memory usage: 28.3+ MB\n"
     ]
    }
   ],
   "source": [
    "\n",
    "HOUSING_PATH1 = os.path.join(\"Dataset\",\"UNSWW-NB15_CSV\")\n",
    "\n",
    "df2 = pd.read_csv(os.path.join(HOUSING_PATH1,\"UNSW_NB15_training-set.csv\"))\n",
    "df2.info()"
   ]
  },
  {
   "cell_type": "code",
   "execution_count": null,
   "metadata": {},
   "outputs": [],
   "source": []
  }
 ],
 "metadata": {
  "kernelspec": {
   "display_name": "Python 3",
   "language": "python",
   "name": "python3"
  },
  "language_info": {
   "codemirror_mode": {
    "name": "ipython",
    "version": 3
   },
   "file_extension": ".py",
   "mimetype": "text/x-python",
   "name": "python",
   "nbconvert_exporter": "python",
   "pygments_lexer": "ipython3",
   "version": "3.8.6"
  }
 },
 "nbformat": 4,
 "nbformat_minor": 4
}
